{
 "cells": [
  {
   "cell_type": "code",
   "execution_count": null,
   "id": "f702024c",
   "metadata": {},
   "outputs": [],
   "source": [
    "import warnings\n",
    "import pandas as pd\n",
    "import numpy as np\n",
    "import matplotlib.pyplot as plt\n",
    "import seaborn as sns\n",
    "import phik\n",
    "\n",
    "pd.options.display.max_columns = None #полностью отображаем столбцы\n",
    "warnings.filterwarnings(\"ignore\")\n",
    "sns.set_style(\"whitegrid\")"
   ]
  },
  {
   "cell_type": "code",
   "execution_count": null,
   "id": "abd3f252",
   "metadata": {},
   "outputs": [],
   "source": [
    "import kagglehub\n",
    "\n",
    "# Download latest version\n",
    "path = kagglehub.dataset_download(\"arnabchaki/data-science-salaries-2023\")\n",
    "\n",
    "print(\"Path to dataset files:\", path)"
   ]
  },
  {
   "cell_type": "code",
   "execution_count": null,
   "id": "40f442c6",
   "metadata": {},
   "outputs": [],
   "source": [
    "df = pd.read_csv('C:/Users/Public/Documents/ds_salaries.csv')\n",
    "df.info()"
   ]
  },
  {
   "cell_type": "code",
   "execution_count": null,
   "id": "a90682ad",
   "metadata": {},
   "outputs": [],
   "source": [
    "df.head(10)"
   ]
  },
  {
   "cell_type": "code",
   "execution_count": null,
   "id": "f422e1ee",
   "metadata": {},
   "outputs": [],
   "source": [
    "#заменим верхний регистр на нижний\n",
    "df.columns = df.columns.str.lower()\n",
    "df.columns"
   ]
  },
  {
   "cell_type": "code",
   "execution_count": null,
   "id": "3e750acf",
   "metadata": {},
   "outputs": [],
   "source": [
    "#  Проверка пропущенных значений\n",
    "\n",
    "df.isna().sum()\n"
   ]
  },
  {
   "cell_type": "code",
   "execution_count": null,
   "id": "dcdf8659",
   "metadata": {},
   "outputs": [],
   "source": [
    "# заполнение пустых городов\n",
    "\n",
    "df['employee_residence'].fillna('Unknown', inplace=True)"
   ]
  },
  {
   "cell_type": "code",
   "execution_count": null,
   "id": "6017f00e",
   "metadata": {},
   "outputs": [],
   "source": [
    "# Проверка и удаление дубликатов\n",
    "\n",
    "df.duplicated().sum()  # Количество дубликатов\n",
    "\n",
    "# Удаление дубликатов\n",
    "df = df.drop_duplicates()"
   ]
  },
  {
   "cell_type": "code",
   "execution_count": null,
   "id": "7c7785ba",
   "metadata": {},
   "outputs": [],
   "source": [
    "# Ещё раз проверим\n",
    "\n",
    "df.isna().sum()\n",
    "df.duplicated().sum()"
   ]
  },
  {
   "cell_type": "code",
   "execution_count": null,
   "id": "4c985c0b",
   "metadata": {},
   "outputs": [],
   "source": [
    "#  1. Самые высокооплачиваемые должности\n",
    "\n",
    "df.groupby('job_title')['salary_in_usd'].median().sort_values(ascending=False).head(10)"
   ]
  },
  {
   "cell_type": "code",
   "execution_count": null,
   "id": "c62dfaf6",
   "metadata": {},
   "outputs": [],
   "source": [
    "# 2. Есть ли выбросы в зарплатах? В каких должностях?\n",
    "\n",
    "plt.figure(figsize=(15, 6))\n",
    "sns.boxplot(data=df, x='job_title', y='salary_in_usd')\n",
    "plt.xticks(rotation=90)\n",
    "plt.title(\"Выбросы зарплаты по должностям\")\n",
    "plt.show()"
   ]
  },
  {
   "cell_type": "code",
   "execution_count": null,
   "id": "8bd8d52a",
   "metadata": {},
   "outputs": [],
   "source": [
    "# Влияет ли удалёнка на зарплату?\n",
    "\n",
    "df.groupby('remote_ratio')['salary_in_usd'].median()\n",
    "\n",
    "# (0 = нет удалёнки, 50 = гибрид, 100 = полностью удалённо)"
   ]
  },
  {
   "cell_type": "code",
   "execution_count": null,
   "id": "733061d8",
   "metadata": {},
   "outputs": [],
   "source": [
    "# 4. Зависит ли зарплата от размера компании?\n",
    "\n",
    "df.groupby('company_size')['salary_in_usd'].median().sort_values(ascending=False)"
   ]
  },
  {
   "cell_type": "code",
   "execution_count": null,
   "id": "b6c6b737",
   "metadata": {},
   "outputs": [],
   "source": [
    "# 5. Популярные страны и уровень зарплат\n",
    "\n",
    "# Популярные\n",
    "\n",
    "df['employee_residence'].value_counts().head(10)\n",
    "\n"
   ]
  },
  {
   "cell_type": "code",
   "execution_count": null,
   "id": "93c08249",
   "metadata": {},
   "outputs": [],
   "source": [
    "# Средняя зарплата по странам\n",
    "\n",
    "df.groupby('employee_residence')['salary_in_usd'].median().sort_values(ascending=False).head(10)"
   ]
  },
  {
   "cell_type": "code",
   "execution_count": null,
   "id": "eef96a99",
   "metadata": {},
   "outputs": [],
   "source": [
    "#6. Медианная зарплата по должностям\n",
    "\n",
    "df.groupby('job_title')['salary_in_usd'].median().sort_values(ascending=False)"
   ]
  },
  {
   "cell_type": "code",
   "execution_count": null,
   "id": "c93979b8",
   "metadata": {},
   "outputs": [],
   "source": [
    "# 7. Как изменились зарплаты в 2023 по сравнению с 2020\n",
    "\n",
    "# Медианная зарплата по должностям в 2020 и 2023\n",
    "# Оставим только 2020 и 2023\n",
    "salary_filtered = df[df['work_year'].isin([2020, 2023])]\n",
    "\n",
    "# Группируем по году и должности → медианная зарплата\n",
    "salary_by_year = salary_filtered.groupby(['job_title', 'work_year'])['salary_in_usd'].median().unstack()\n",
    "\n",
    "# Убедимся, что обе колонки (2020 и 2023) есть\n",
    "salary_by_year = salary_by_year.dropna(subset=[2020, 2023])\n",
    "\n",
    "# Добавим процент изменения\n",
    "salary_by_year['change_%'] = ((salary_by_year[2023] - salary_by_year[2020]) / salary_by_year[2020]) * 100\n",
    "\n",
    "# Сортировка по убыванию прироста\n",
    "salary_by_year.sort_values('change_%', ascending=False)\n",
    "\n"
   ]
  },
  {
   "cell_type": "code",
   "execution_count": null,
   "id": "f4f51f3e",
   "metadata": {},
   "outputs": [],
   "source": [
    " #8. Портрет самого успешного работника\n",
    "\n",
    "df[df['salary_in_usd'] == df['salary_in_usd'].max()]"
   ]
  },
  {
   "cell_type": "code",
   "execution_count": null,
   "id": "e25da54a",
   "metadata": {},
   "outputs": [],
   "source": [
    "#9. Живут и работают в разных странах\n",
    "\n",
    "# Люди, у кого место работы и проживания не совпадает\n",
    "df_diff_country = df[df['employee_residence'] != df['company_location']]\n"
   ]
  },
  {
   "cell_type": "code",
   "execution_count": null,
   "id": "fd1d921a",
   "metadata": {},
   "outputs": [],
   "source": [
    "# Количество таких людей\n",
    "df_diff_country.shape[0]\n"
   ]
  },
  {
   "cell_type": "code",
   "execution_count": null,
   "id": "7f0fb822",
   "metadata": {},
   "outputs": [],
   "source": [
    "# Сколько процентов работают на другую страну\n",
    "percent_remote_country = df_diff_country.shape[0] / df.shape[0] * 100\n",
    "percent_remote_country"
   ]
  }
 ],
 "metadata": {
  "kernelspec": {
   "display_name": "Python 3",
   "language": "python",
   "name": "python3"
  },
  "language_info": {
   "codemirror_mode": {
    "name": "ipython",
    "version": 3
   },
   "file_extension": ".py",
   "mimetype": "text/x-python",
   "name": "python",
   "nbconvert_exporter": "python",
   "pygments_lexer": "ipython3",
   "version": "3.11.7"
  }
 },
 "nbformat": 4,
 "nbformat_minor": 5
}
